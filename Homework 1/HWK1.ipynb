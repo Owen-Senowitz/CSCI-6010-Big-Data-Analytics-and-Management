{
 "cells": [
  {
   "cell_type": "markdown",
   "id": "7a73de79-c49a-4eaf-af8c-ecf3461e65be",
   "metadata": {},
   "source": [
    "<center><h1>CSCI/DASC 6010: Big Data Analytics and Management</h1></center>\n",
    "\n",
    "<center><h6>Spring 2025</h6></center>\n",
    "<center><h6>Homework 1 - Vector databases</h6></center>\n",
    "<center><h6>Due Sunday, January 26, at 11:59 PM</h6></center>\n",
    "\n",
    "<center><font color='red'>Do not redistribute without the instructor’s written permission.</font></center>"
   ]
  },
  {
   "cell_type": "markdown",
   "id": "997154c8-139c-4454-b054-ce0f111d1be7",
   "metadata": {},
   "source": [
    "[VectorDB](https://vectordb.com/) is a lightweight Python package for storing and retrieving text using chunking, embedding, and vector search techniques. It provides an easy-to-use interface for saving, searching, and managing textual data with associated metadata and is designed for use cases where low latency is essential.\n",
    "\n",
    "The goal of this assignment is to explore this Python package, find examples that work well, and examples that don't work so well."
   ]
  },
  {
   "cell_type": "markdown",
   "id": "0449b269-bb4e-49f9-9899-8900096465ec",
   "metadata": {},
   "source": [
    "For more details about parameters, documentation visit the [VectorDB GitHub repository](https://github.com/kagisearch/vectordb?tab=readme-ov-file)."
   ]
  },
  {
   "cell_type": "markdown",
   "id": "e6532f78-2ea9-4fe7-9bfe-c354a6f0a11b",
   "metadata": {},
   "source": [
    "## Load a sample file into VectorDB\n",
    "For this part of the assignment, we'll load the course syllabus. You're welcome to load different file(s), as long as your work is reproducible (for example, load publicly available webpages or files, or include the used files with your Canvas submission)."
   ]
  },
  {
   "cell_type": "code",
   "execution_count": 9,
   "id": "726724c8-8615-43cc-945a-3c94590ec9f1",
   "metadata": {},
   "outputs": [],
   "source": [
    "# importing required classes\n",
    "from vectordb import Memory\n",
    "from pypdf import PdfReader"
   ]
  },
  {
   "cell_type": "code",
   "execution_count": 10,
   "id": "c168bb42-2f74-4193-bde5-5ecc941a58fc",
   "metadata": {},
   "outputs": [
    {
     "name": "stdout",
     "output_type": "stream",
     "text": [
      "Initiliazing embeddings:  normal\n",
      "OK.\n"
     ]
    }
   ],
   "source": [
    "# Memory is where all content you want to store/search goes.\n",
    "memory = Memory(chunking_strategy={'mode':'sliding_window', 'window_size': 128, 'overlap': 16})"
   ]
  },
  {
   "cell_type": "code",
   "execution_count": 11,
   "id": "19d15d3a-bc87-4e6e-8fe7-4745913772e5",
   "metadata": {},
   "outputs": [],
   "source": [
    "# creating a pdf reader object\n",
    "reader = PdfReader('CSCI 6010 Syllabus.pdf')"
   ]
  },
  {
   "cell_type": "code",
   "execution_count": 12,
   "id": "63485c1a-329e-4ee7-bcd3-2dc3e4fa55ad",
   "metadata": {
    "scrolled": true
   },
   "outputs": [],
   "source": [
    "# store the text of each page in a separate 'document' in the vector database\n",
    "for i in range(len(reader.pages)):\n",
    "    # reader.pages[i] is the page object for ith page\n",
    "    # extract_text() gets the text from the page\n",
    "    text = reader.pages[i].extract_text()\n",
    "    metadata = {\"file\": \"CSCI 6010 Syllabus.pdf\", \"page\": i + 1}\n",
    "    memory.save(text, metadata)"
   ]
  },
  {
   "cell_type": "markdown",
   "id": "5712153a-5187-4393-888b-55bca01dbc17",
   "metadata": {},
   "source": [
    "## Q1 (60 pts): What do the different parameters of `Memory()` function do?\n",
    "For more details about parameters, documentation visit the [VectorDB GitHub repository](https://github.com/kagisearch/vectordb?tab=readme-ov-file#options).\n",
    "\n",
    "In addition, to describing these parameters, run some experiments to show the influence of these parameters' values."
   ]
  },
  {
   "cell_type": "markdown",
   "id": "96a3e0f1-8a8a-426b-9194-c6de5fa0ad25",
   "metadata": {},
   "source": [
    "<font color='red'>Written answer goes here.</font>"
   ]
  },
  {
   "cell_type": "code",
   "execution_count": null,
   "id": "448a385a-a0c5-4d14-b247-314f5b939187",
   "metadata": {},
   "outputs": [],
   "source": [
    "\"\"\"\n",
    "IMPLEMENT ME!\n",
    "Your experiments go here, along with your observations.\n",
    "\"\"\""
   ]
  },
  {
   "cell_type": "markdown",
   "id": "f0b09e55-10ec-4e54-a1de-e1b9f3b56ef3",
   "metadata": {},
   "source": [
    "## Q2 (40 pts): What are the strengths and weaknesses of searching vector databases?\n",
    "Provide examples of queries that retrieve the right results (even if using synonymous words, mispelled words, etc.), and examples in which the top answer is not the one containing the best result. Experiment with multiple files, longer documents, etc."
   ]
  },
  {
   "cell_type": "code",
   "execution_count": null,
   "id": "aa6fbf8d-b271-439e-89a2-4af099d80a22",
   "metadata": {},
   "outputs": [],
   "source": [
    "\"\"\"\n",
    "IMPLEMENT ME!\n",
    "Your examples go here, along with your observations.\n",
    "\"\"\""
   ]
  },
  {
   "cell_type": "markdown",
   "id": "e7e3c840-8c54-45d4-bcf6-5495d00d3815",
   "metadata": {},
   "source": [
    "<font color='red'>Written answer goes here.</font>"
   ]
  },
  {
   "cell_type": "markdown",
   "id": "dda929f5-a958-4c8a-8f72-134e4aeab551",
   "metadata": {},
   "source": [
    "## EC (10 pts): What do the different parameters of `search()` function do?\n",
    "For more details about parameters, documentation visit the [VectorDB GitHub repository](https://github.com/kagisearch/vectordb?tab=readme-ov-file#options).\n",
    "\n",
    "In addition, to describing these parameters, run some experiments to show the influence of these parameters' values."
   ]
  },
  {
   "cell_type": "markdown",
   "id": "a38ba23d-bddd-46d2-b1eb-40c9412fe1e0",
   "metadata": {},
   "source": [
    "<font color='red'>Written answer goes here.</font>"
   ]
  },
  {
   "cell_type": "code",
   "execution_count": null,
   "id": "06665771-bd15-4fa3-a5c3-2ba7fb246a04",
   "metadata": {},
   "outputs": [],
   "source": [
    "\"\"\"\n",
    "IMPLEMENT ME!\n",
    "Your experiments go here, along with your observations.\n",
    "\"\"\""
   ]
  }
 ],
 "metadata": {
  "kernelspec": {
   "display_name": "Python 3 (ipykernel)",
   "language": "python",
   "name": "python3"
  },
  "language_info": {
   "codemirror_mode": {
    "name": "ipython",
    "version": 3
   },
   "file_extension": ".py",
   "mimetype": "text/x-python",
   "name": "python",
   "nbconvert_exporter": "python",
   "pygments_lexer": "ipython3",
   "version": "3.11.6"
  }
 },
 "nbformat": 4,
 "nbformat_minor": 5
}
