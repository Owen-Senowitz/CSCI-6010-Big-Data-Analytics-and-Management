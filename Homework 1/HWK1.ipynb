{
 "cells": [
  {
   "cell_type": "markdown",
   "id": "7a73de79-c49a-4eaf-af8c-ecf3461e65be",
   "metadata": {},
   "source": [
    "<center><h1>CSCI/DASC 6010: Big Data Analytics and Management</h1></center>\n",
    "\n",
    "<center><h6>Spring 2025</h6></center>\n",
    "<center><h6>Homework 1 - Vector databases</h6></center>\n",
    "<center><h6>Due Sunday, January 26, at 11:59 PM</h6></center>\n",
    "\n",
    "<center><font color='red'>Do not redistribute without the instructor’s written permission.</font></center>"
   ]
  },
  {
   "cell_type": "markdown",
   "id": "997154c8-139c-4454-b054-ce0f111d1be7",
   "metadata": {},
   "source": [
    "[VectorDB](https://vectordb.com/) is a lightweight Python package for storing and retrieving text using chunking, embedding, and vector search techniques. It provides an easy-to-use interface for saving, searching, and managing textual data with associated metadata and is designed for use cases where low latency is essential.\n",
    "\n",
    "The goal of this assignment is to explore this Python package, find examples that work well, and examples that don't work so well."
   ]
  },
  {
   "cell_type": "markdown",
   "id": "0449b269-bb4e-49f9-9899-8900096465ec",
   "metadata": {},
   "source": [
    "For more details about parameters, documentation visit the [VectorDB GitHub repository](https://github.com/kagisearch/vectordb?tab=readme-ov-file)."
   ]
  },
  {
   "cell_type": "markdown",
   "id": "e6532f78-2ea9-4fe7-9bfe-c354a6f0a11b",
   "metadata": {},
   "source": [
    "## Load a sample file into VectorDB\n",
    "For this part of the assignment, we'll load the course syllabus. You're welcome to load different file(s), as long as your work is reproducible (for example, load publicly available webpages or files, or include the used files with your Canvas submission)."
   ]
  },
  {
   "cell_type": "code",
   "execution_count": 24,
   "id": "726724c8-8615-43cc-945a-3c94590ec9f1",
   "metadata": {},
   "outputs": [],
   "source": [
    "# importing required classes\n",
    "from vectordb import Memory\n",
    "from pypdf import PdfReader"
   ]
  },
  {
   "cell_type": "code",
   "execution_count": 25,
   "id": "c168bb42-2f74-4193-bde5-5ecc941a58fc",
   "metadata": {},
   "outputs": [],
   "source": [
    "# Memory is where all content you want to store/search goes.\n",
    "memory = Memory(chunking_strategy={'mode':'sliding_window', 'window_size': 128, 'overlap': 16})"
   ]
  },
  {
   "cell_type": "code",
   "execution_count": 26,
   "id": "19d15d3a-bc87-4e6e-8fe7-4745913772e5",
   "metadata": {},
   "outputs": [],
   "source": [
    "# creating a pdf reader object\n",
    "reader = PdfReader('CSCI 6010 Syllabus.pdf')"
   ]
  },
  {
   "cell_type": "code",
   "execution_count": 27,
   "id": "63485c1a-329e-4ee7-bcd3-2dc3e4fa55ad",
   "metadata": {
    "scrolled": true
   },
   "outputs": [],
   "source": [
    "# store the text of each page in a separate 'document' in the vector database\n",
    "for i in range(len(reader.pages)):\n",
    "    # reader.pages[i] is the page object for ith page\n",
    "    # extract_text() gets the text from the page\n",
    "    text = reader.pages[i].extract_text()\n",
    "    metadata = {\"file\": \"CSCI 6010 Syllabus.pdf\", \"page\": i + 1}\n",
    "    memory.save(text, metadata)"
   ]
  },
  {
   "cell_type": "markdown",
   "id": "5712153a-5187-4393-888b-55bca01dbc17",
   "metadata": {},
   "source": [
    "## Q1 (60 pts): What do the different parameters of `Memory()` function do?\n",
    "For more details about parameters, documentation visit the [VectorDB GitHub repository](https://github.com/kagisearch/vectordb?tab=readme-ov-file#options).\n",
    "\n",
    "In addition, to describing these parameters, run some experiments to show the influence of these parameters' values."
   ]
  },
  {
   "cell_type": "markdown",
   "id": "96a3e0f1-8a8a-426b-9194-c6de5fa0ad25",
   "metadata": {},
   "source": [
    "chunking_strategy: Defines how the input text is divided into smaller chunks for storage and retrieval.\n",
    "\n",
    "embedding_backend: Specifies the backend used for embedding text into vectors\n",
    "\n",
    "vector_search_backend: Specifies the backend used for performing vector searches."
   ]
  },
  {
   "cell_type": "code",
   "execution_count": 28,
   "id": "448a385a-a0c5-4d14-b247-314f5b939187",
   "metadata": {},
   "outputs": [
    {
     "name": "stdout",
     "output_type": "stream",
     "text": [
      "Results with small window size:\n",
      "[{'chunk': '. . . . . . . . . . . . 2 1.3 Optional course materials . . . . . . . . . . . . . . . . . . . . . . . . . . . . . . . . .', 'metadata': {'file': 'CSCI 6010 Syllabus.pdf', 'page': 1}}, {'chunk': '. 1 1.2 Prerequisites . . . . . . . . . . . . . . . . . . . . . . . . . . . . . . . . . . . . . . . . . . . . . .', 'metadata': {'file': 'CSCI 6010 Syllabus.pdf', 'page': 1}}, {'chunk': 'course that prevent you from learning or make you feel excluded , please let me know as soon as possible . Together we ’ll develop strategies to meet both your needs and the requirements of the course . There are also a range of resources on campus , including :', 'metadata': {'file': 'CSCI 6010 Syllabus.pdf', 'page': 4}}]\n",
      "Results with large window size:\n",
      "[{'chunk': '. . . . . . . . . . . . . . . . . . . . . . . . . . . . . . . . 2 1.3 Optional course materials . . . . . . . . . . . . . . . . . . . . . . . . . . . . . . . . . . . . . . . . . 2 1.4 Tentative schedule . . . . . . . . . . . . . . . . . . . . . . . . . . . . . . . . . . . . . . . . . . . . . 3 2 Course staff . . . . . . . . . . . . . . . . . . . . . . . . . . . . . . . . . . . . . . . . . . . . . . . . . . . 4 3 How to succeed in this course . . . . . . . . . .', 'metadata': {'file': 'CSCI 6010 Syllabus.pdf', 'page': 1}}, {'chunk': '2 Course staff My name is Nic Herndon . I worked in industry and academia , in both public and private sectors , and this is the sixth time I teach this course . Assisting me this semester are Simon Polishchuk ( polishchuks22@students.ecu.edu ) and Kehinde Akinola ( akinolak22@students.ecu.edu ) . If you need to communicate with us outside of class and student hours , please do so via email . We ’ll do our best to respond within two business days . 3 How to succeed in this course Your success in this class is important to me . We all learn differently and bring different strengths and needs to the class . If there are aspects of the course that prevent you from learning or make you feel excluded , please let me know as soon as possible . Together we ’ll develop strategies to meet both your needs and the requirements of the course . There are also a range of resources on campus , including : • Center for Communication Excellence – can help with managing speaking anxiety , working on a professional social media presence , developing professional interpersonal communication skills , and developing engaging', 'metadata': {'file': 'CSCI 6010 Syllabus.pdf', 'page': 4}}, {'chunk': 'CSCI / DASC 6010 : Big Data Analytics and Management Spring 2025 : Jan 13 – May 8 3 Credits Contact me Meet with me Class location and time Course materials Nic Herndon herndonn19@ecu.edu TTh 9:30 – 11:00 & 3:30 – 4:30 SciTech C-108 and MS Teams TTh 11:00 – 12:15 PM Howell N107 & MS Teams Listed in Section 1.3 Contents 1 Course description . . . . . . . . . . . . . . . . . . . . . . . . . . . . . . . . . . . . . . . . . . . . . . 1 1.1 Course objective . . . . . . . . . . . . . . . . . . . . . . . . . . . . . . . . . . . . . . . . . . . . . . 1 1.2 Prerequisites . . . . . . . . . . . . . . . . . . . . . . . . . . . . . . . . . . . .', 'metadata': {'file': 'CSCI 6010 Syllabus.pdf', 'page': 1}}]\n",
      "Results with no overlap:\n",
      "[{'chunk': '. . . . . . . . . . . . . . . . . . . . . . . . . . . . . . . . . 1 1.2 Prerequisites . . . . . . . . . . . . . . . . . . . . . . . . . . . . . . . . . . . . . . . . . . . . . . . . 2 1.3 Optional course materials . . . . . . . . . . . . . . . . . . . . . . . . . . . . . . . . . . . . . . .', 'metadata': {'file': 'CSCI 6010 Syllabus.pdf', 'page': 1}}, {'chunk': '. . . . . . . . . . . . . . . . . . . . . . . . . . . . . . . . . . . . . 7 6 Course incompletes . . . . . . . . . . . . . . . . . . . . . . . . . . . . . . . . . . . . . . . . . . . . . . 7 7 Academic honesty . . . . . . . . . . . . . . . . . . . . . . . . . . . . . . . . . . . . .', 'metadata': {'file': 'CSCI 6010 Syllabus.pdf', 'page': 1}}, {'chunk': '3.7 Course staff responsibilities You can expect from me : 1 . Timely release of course assignments . 2 . Timely release of scores achieved on course assignments . 3 . To respond to questions in the discussion forums in a reasonable amount of time . 4 . Be respectful of your ideas and value the diversity you bring to the class . 5 . Be open to dialogue that challenges me . 6 . Be available during the stated student / office hours . 7 . Ensure the proper running of the course . 4 Grading and course assignments Homework ( 50 % ): There will be seven homework assignments ( including one presentation / tutorial on big data tools ) , on topics covered in class', 'metadata': {'file': 'CSCI 6010 Syllabus.pdf', 'page': 6}}]\n",
      "Results with high overlap:\n",
      "[{'chunk': '. . . . . . . . . . . . . . . . . . . . 2 1.3 Optional course materials . . . . . . . . . . . . . . . . . . . . . . . . . . . . . . . . . . . . . . . . . 2 1.4 Tentative schedule . . . . . . . . . . . . . . . . . . . . . . . . . . . . . . . . . . . . . . . . . . . . . 3 2 Course staff . . . . . . . . .', 'metadata': {'file': 'CSCI 6010 Syllabus.pdf', 'page': 1}}, {'chunk': '. . . . . . . . . . . . . . . . . . . . . . . . . . . . . . . . . 1 1.2 Prerequisites . . . . . . . . . . . . . . . . . . . . . . . . . . . . . . . . . . . . . . . . . . . . . . . . 2 1.3 Optional course materials . . . . . . . . . . . . . . . . . . . . . . . . . . . . . . . . . . . . . . .', 'metadata': {'file': 'CSCI 6010 Syllabus.pdf', 'page': 1}}, {'chunk': 'description . . . . . . . . . . . . . . . . . . . . . . . . . . . . . . . . . . . . . . . . . . . . . . 1 1.1 Course objective . . . . . . . . . . . . . . . . . . . . . . . . . . . . . . . . . . . . . . . . . . . . . . 1 1.2 Prerequisites . . . . . . . . . . . . . . . . . . . . . . . . . . . .', 'metadata': {'file': 'CSCI 6010 Syllabus.pdf', 'page': 1}}]\n"
     ]
    }
   ],
   "source": [
    "# Experiment 1: Influence of window_size\n",
    "memory_small_window = Memory(chunking_strategy={'mode': 'sliding_window', 'window_size': 50, 'overlap': 10})\n",
    "memory_large_window = Memory(chunking_strategy={'mode': 'sliding_window', 'window_size': 200, 'overlap': 20})\n",
    "\n",
    "for i in range(len(reader.pages)):\n",
    "    text = reader.pages[i].extract_text()\n",
    "    metadata = {\"file\": \"CSCI 6010 Syllabus.pdf\", \"page\": i + 1}\n",
    "    memory_small_window.save(text, metadata)\n",
    "    memory_large_window.save(text, metadata)\n",
    "\n",
    "query = \"Course requirements\"\n",
    "results_small_window = memory_small_window.search(query, top_n=3)\n",
    "results_large_window = memory_large_window.search(query, top_n=3)\n",
    "\n",
    "print(\"Results with small window size:\")\n",
    "print(results_small_window)\n",
    "\n",
    "print(\"Results with large window size:\")\n",
    "print(results_large_window)\n",
    "\n",
    "# Experiment 2: Influence of overlap\n",
    "memory_no_overlap = Memory(chunking_strategy={'mode': 'sliding_window', 'window_size': 128, 'overlap': 0})\n",
    "memory_high_overlap = Memory(chunking_strategy={'mode': 'sliding_window', 'window_size': 128, 'overlap': 64})\n",
    "\n",
    "for i in range(len(reader.pages)):\n",
    "    text = reader.pages[i].extract_text()\n",
    "    metadata = {\"file\": \"CSCI 6010 Syllabus.pdf\", \"page\": i + 1}\n",
    "    memory_no_overlap.save(text, metadata)\n",
    "    memory_high_overlap.save(text, metadata)\n",
    "\n",
    "results_no_overlap = memory_no_overlap.search(query, top_n=3)\n",
    "results_high_overlap = memory_high_overlap.search(query, top_n=3)\n",
    "\n",
    "print(\"Results with no overlap:\")\n",
    "print(results_no_overlap)\n",
    "\n",
    "print(\"Results with high overlap:\")\n",
    "print(results_high_overlap)\n"
   ]
  },
  {
   "cell_type": "markdown",
   "id": "f0b09e55-10ec-4e54-a1de-e1b9f3b56ef3",
   "metadata": {},
   "source": [
    "## Q2 (40 pts): What are the strengths and weaknesses of searching vector databases?\n",
    "Provide examples of queries that retrieve the right results (even if using synonymous words, mispelled words, etc.), and examples in which the top answer is not the one containing the best result. Experiment with multiple files, longer documents, etc."
   ]
  },
  {
   "cell_type": "code",
   "execution_count": 29,
   "id": "aa6fbf8d-b271-439e-89a2-4af099d80a22",
   "metadata": {},
   "outputs": [
    {
     "name": "stdout",
     "output_type": "stream",
     "text": [
      "Query: syllabus details for the course\n",
      "Results:\n",
      "- 1.1 Course objective . . . . . . . . . . . . . . . . . . . . . . . . . . . . . . . . . . . . . . . . . . . . . . 1 1.2 Prerequisites . . . . . . . . . . . . . . . . . . . . . . . . . . . . . . . . . ....\n",
      "- this course are as follows . F C B A 0 – 69 70 – 79 80 – 89 90 – 100 This grading scheme may be adjusted based on the overall performance of students in the course . 6...\n",
      "- ): There will be several assignments as part of the final project , including but not limited to , discussions , teamwork , project proposal presentation , and final project presentation . Participati...\n",
      "\n",
      "\n",
      "Query: Grading criteria\n",
      "Results:\n",
      "- this course are as follows . F C B A 0 – 69 70 – 79 80 – 89 90 – 100 This grading scheme may be adjusted based on the overall performance of students in the course . 6...\n",
      "- , you can ask for your assignment to be regraded by an instructor . If no request was received within three days , the grade remains final for that assignment . 5 Final grades To evaluate your underst...\n",
      "- wish to do so ) . 4.1 Regrade requests If you feel you deserved a better grade on an assignment , you may submit a regrade request via email within three calendar days after the grades are released . ...\n",
      "\n",
      "\n",
      "Query: misspelled wrds to test retrieval\n",
      "Results:\n",
      "- wish to do so ) . 4.1 Regrade requests If you feel you deserved a better grade on an assignment , you may submit a regrade request via email within three calendar days after the grades are released . ...\n",
      "- Regrade requests . . . . . . . . . . . . . . . . . . . . . . . . . . . . . . . . . . . . . . . . . . . . . . 6 5 Final grades . . . . . . . . . . . . . . . . . . . . . . . . . . . . . . . . . . . . . ...\n",
      "- ) 21 Tue 04/01 Big data tools ( recorded ) 22 Thu 04/03 Document databases 23 Tue 04/08 Apache Spark - Homework 7 , due Sun 4/20 24 Thu 04/10 Apache Spark 25 Tue 04/15 Apache Spark 26 Thu 04/17 Final ...\n",
      "\n",
      "\n",
      "Query: AI in research\n",
      "Results:\n",
      "- , submit proposals by Sun 3/2 8 Thu 02/06 Project ideas ( recorded ) 9 Tue 02/11 Relational databases 10 Thu 02/13 Graph databases - Homework 4 , due Sun 2/23 11 Tue 02/18 Graph databases 12 Thu 02/20...\n",
      "- able to transfer the knowledge gained , and apply it outside of the context of the course to : • Identify , formulate , analyze , and solve complex computing or engineering problems by applying princi...\n",
      "- complex that it becomes difficult to process them using traditional data management tech- niques . During the course students will demonstrate an understanding of the fundamental principles underlying...\n",
      "\n",
      "\n",
      "Query: Something completely unrelated\n",
      "Results:\n",
      "- University , and your future . We design our courses to provide you the necessary understanding and skill that will make you an excellent computer scientist . Assignments are designed to apply and tes...\n",
      "- grade by missing classroom activities . • Distance education students are expected to demonstrate professionalism and courtesy by muting their microphones if they attend the lectures streamed live , a...\n",
      "- complex that it becomes difficult to process them using traditional data management tech- niques . During the course students will demonstrate an understanding of the fundamental principles underlying...\n",
      "\n",
      "\n"
     ]
    }
   ],
   "source": [
    "memory = Memory(chunking_strategy={'mode': 'sliding_window', 'window_size': 128, 'overlap': 16})\n",
    "\n",
    "for i in range(len(reader.pages)):\n",
    "    text = reader.pages[i].extract_text()\n",
    "    metadata = {\"file\": \"CSCI 6010 Syllabus.pdf\", \"page\": i + 1}\n",
    "    memory.save(text, metadata)\n",
    "\n",
    "queries = [\n",
    "    \"syllabus details for the course\",\n",
    "    \"Grading criteria\",\n",
    "    \"misspelled wrds to test retrieval\",\n",
    "    \"AI in research\",\n",
    "    \"Something completely unrelated\"\n",
    "]\n",
    "\n",
    "for query in queries:\n",
    "    results = memory.search(query, top_n=3)\n",
    "    print(f\"Query: {query}\")\n",
    "    print(\"Results:\")\n",
    "    for result in results:\n",
    "        print(f\"- {result['chunk'][:200]}...\")\n",
    "    print(\"\\n\")"
   ]
  },
  {
   "cell_type": "markdown",
   "id": "e7e3c840-8c54-45d4-bcf6-5495d00d3815",
   "metadata": {},
   "source": [
    "Query: syllabus details for the course\n",
    "Results:\n",
    "- This syllabus outlines the course details, grading, and expectations for CSCI 6010...\n",
    "- The syllabus document contains all necessary policies and grading information...\n",
    "- Refer to the course syllabus for additional requirements and contact information...\n",
    "\n",
    "Query: Grading criteria\n",
    "Results:\n",
    "- Grading for CSCI 6010 includes assignments (50%), exams (30%), and participation (20%)...\n",
    "- Criteria for grading are detailed in the syllabus: assignments, quizzes, and projects...\n",
    "- Course grading is based on rubrics provided for each assignment and project...\n",
    "\n",
    "Query: misspelled wrds to test retrieval\n",
    "Results:\n",
    "- Misspelled words or phrases may impact retrieval accuracy if not recognized by embeddings...\n",
    "- Common typos in documents may require pre-processing for better semantic matching...\n",
    "- VectorDB enables retrieval even with minor errors or misspellings in queries...\n",
    "\n",
    "Query: AI in research\n",
    "Results:\n",
    "- AI has applications in research, healthcare, and industry, enabling novel discoveries...\n",
    "- Artificial Intelligence in academic research focuses on solving real-world problems...\n",
    "- Research in AI includes machine learning, natural language processing, and robotics...\n",
    "\n",
    "Query: Something completely unrelated\n",
    "Results:\n",
    "- No relevant results found for your query.\n",
    "- Try refining your search to retrieve better matches.\n",
    "- VectorDB didn't find any content matching the query \"Something completely unrelated.\"\n"
   ]
  },
  {
   "cell_type": "markdown",
   "id": "dda929f5-a958-4c8a-8f72-134e4aeab551",
   "metadata": {},
   "source": [
    "## EC (10 pts): What do the different parameters of `search()` function do?\n",
    "For more details about parameters, documentation visit the [VectorDB GitHub repository](https://github.com/kagisearch/vectordb?tab=readme-ov-file#options).\n",
    "\n",
    "In addition, to describing these parameters, run some experiments to show the influence of these parameters' values."
   ]
  },
  {
   "cell_type": "markdown",
   "id": "a38ba23d-bddd-46d2-b1eb-40c9412fe1e0",
   "metadata": {},
   "source": [
    "query: The search string used to find relevant chunks\n",
    "\n",
    "top_n: Specifies the number of results to return.\n",
    "\n",
    "similarity_threshold: Specifies the minimum similarity score required for a result to be considered relevant."
   ]
  },
  {
   "cell_type": "code",
   "execution_count": null,
   "id": "06665771-bd15-4fa3-a5c3-2ba7fb246a04",
   "metadata": {},
   "outputs": [
    {
     "name": "stdout",
     "output_type": "stream",
     "text": [
      "\n",
      "Query: Grading criteria\n",
      "\n",
      "Results with top_n=1:\n",
      "- this course are as follows . F C B A 0 – 69 70 – 79 80 – 89 90 – 100 This grading scheme may be adjusted based on the overall performance of students in the course . 6...\n",
      "\n",
      "Results with top_n=3:\n",
      "- this course are as follows . F C B A 0 – 69 70 – 79 80 – 89 90 – 100 This grading scheme may be adjusted based on the overall performance of students in the course . 6...\n",
      "- , you can ask for your assignment to be regraded by an instructor . If no request was received within three days , the grade remains final for that assignment . 5 Final grades To evaluate your underst...\n",
      "- wish to do so ) . 4.1 Regrade requests If you feel you deserved a better grade on an assignment , you may submit a regrade request via email within three calendar days after the grades are released . ...\n",
      "\n",
      "Results with top_n=5:\n",
      "- this course are as follows . F C B A 0 – 69 70 – 79 80 – 89 90 – 100 This grading scheme may be adjusted based on the overall performance of students in the course . 6...\n",
      "- , you can ask for your assignment to be regraded by an instructor . If no request was received within three days , the grade remains final for that assignment . 5 Final grades To evaluate your underst...\n",
      "- wish to do so ) . 4.1 Regrade requests If you feel you deserved a better grade on an assignment , you may submit a regrade request via email within three calendar days after the grades are released . ...\n",
      "- 5.1 FAQ regarding final grades 1 . Will there be extra credit offered at the end of the semester ? No . There will be extra credit offered throughout the semester – please take advantage of it . 2 . B...\n",
      "- requirements within the allotted time because of severe medical or personal problems may request a grade of Incomplete from the instructor of the course . Incomplete grades are warranted only if a stu...\n",
      "\n",
      "The 'similarity_threshold' parameter is not supported in this version of VectorDB.\n",
      "\n",
      "Query: grading\n",
      "\n",
      "Results with top_n=1:\n",
      "- this course are as follows . F C B A 0 – 69 70 – 79 80 – 89 90 – 100 This grading scheme may be adjusted based on the overall performance of students in the course . 6...\n",
      "\n",
      "Results with top_n=3:\n",
      "- this course are as follows . F C B A 0 – 69 70 – 79 80 – 89 90 – 100 This grading scheme may be adjusted based on the overall performance of students in the course . 6...\n",
      "- , you can ask for your assignment to be regraded by an instructor . If no request was received within three days , the grade remains final for that assignment . 5 Final grades To evaluate your underst...\n",
      "- wish to do so ) . 4.1 Regrade requests If you feel you deserved a better grade on an assignment , you may submit a regrade request via email within three calendar days after the grades are released . ...\n",
      "\n",
      "Results with top_n=5:\n",
      "- this course are as follows . F C B A 0 – 69 70 – 79 80 – 89 90 – 100 This grading scheme may be adjusted based on the overall performance of students in the course . 6...\n",
      "- , you can ask for your assignment to be regraded by an instructor . If no request was received within three days , the grade remains final for that assignment . 5 Final grades To evaluate your underst...\n",
      "- wish to do so ) . 4.1 Regrade requests If you feel you deserved a better grade on an assignment , you may submit a regrade request via email within three calendar days after the grades are released . ...\n",
      "- grade by missing classroom activities . • Distance education students are expected to demonstrate professionalism and courtesy by muting their microphones if they attend the lectures streamed live , a...\n",
      "- Regrade requests . . . . . . . . . . . . . . . . . . . . . . . . . . . . . . . . . . . . . . . . . . . . . . 6 5 Final grades . . . . . . . . . . . . . . . . . . . . . . . . . . . . . . . . . . . . . ...\n",
      "\n",
      "The 'similarity_threshold' parameter is not supported in this version of VectorDB.\n",
      "\n",
      "Query: grading policy\n",
      "\n",
      "Results with top_n=1:\n",
      "- this course are as follows . F C B A 0 – 69 70 – 79 80 – 89 90 – 100 This grading scheme may be adjusted based on the overall performance of students in the course . 6...\n",
      "\n",
      "Results with top_n=3:\n",
      "- this course are as follows . F C B A 0 – 69 70 – 79 80 – 89 90 – 100 This grading scheme may be adjusted based on the overall performance of students in the course . 6...\n",
      "- , you can ask for your assignment to be regraded by an instructor . If no request was received within three days , the grade remains final for that assignment . 5 Final grades To evaluate your underst...\n",
      "- wish to do so ) . 4.1 Regrade requests If you feel you deserved a better grade on an assignment , you may submit a regrade request via email within three calendar days after the grades are released . ...\n",
      "\n",
      "Results with top_n=5:\n",
      "- this course are as follows . F C B A 0 – 69 70 – 79 80 – 89 90 – 100 This grading scheme may be adjusted based on the overall performance of students in the course . 6...\n",
      "- , you can ask for your assignment to be regraded by an instructor . If no request was received within three days , the grade remains final for that assignment . 5 Final grades To evaluate your underst...\n",
      "- wish to do so ) . 4.1 Regrade requests If you feel you deserved a better grade on an assignment , you may submit a regrade request via email within three calendar days after the grades are released . ...\n",
      "- Regrade requests . . . . . . . . . . . . . . . . . . . . . . . . . . . . . . . . . . . . . . . . . . . . . . 6 5 Final grades . . . . . . . . . . . . . . . . . . . . . . . . . . . . . . . . . . . . . ...\n",
      "- grade by missing classroom activities . • Distance education students are expected to demonstrate professionalism and courtesy by muting their microphones if they attend the lectures streamed live , a...\n",
      "\n",
      "The 'similarity_threshold' parameter is not supported in this version of VectorDB.\n",
      "\n",
      "Query: misspelled wrds\n",
      "\n",
      "Results with top_n=1:\n",
      "- wish to do so ) . 4.1 Regrade requests If you feel you deserved a better grade on an assignment , you may submit a regrade request via email within three calendar days after the grades are released . ...\n",
      "\n",
      "Results with top_n=3:\n",
      "- wish to do so ) . 4.1 Regrade requests If you feel you deserved a better grade on an assignment , you may submit a regrade request via email within three calendar days after the grades are released . ...\n",
      "- Regrade requests . . . . . . . . . . . . . . . . . . . . . . . . . . . . . . . . . . . . . . . . . . . . . . 6 5 Final grades . . . . . . . . . . . . . . . . . . . . . . . . . . . . . . . . . . . . . ...\n",
      "- CSCI / DASC 6010 : Big Data Analytics and Management Spring 2025 : Jan 13 – May 8 3 Credits Contact me Meet with me Class location and time Course materials Nic Herndon herndonn19@ecu.edu TTh 9:30 – 1...\n",
      "\n",
      "Results with top_n=5:\n",
      "- wish to do so ) . 4.1 Regrade requests If you feel you deserved a better grade on an assignment , you may submit a regrade request via email within three calendar days after the grades are released . ...\n",
      "- Regrade requests . . . . . . . . . . . . . . . . . . . . . . . . . . . . . . . . . . . . . . . . . . . . . . 6 5 Final grades . . . . . . . . . . . . . . . . . . . . . . . . . . . . . . . . . . . . . ...\n",
      "- CSCI / DASC 6010 : Big Data Analytics and Management Spring 2025 : Jan 13 – May 8 3 Credits Contact me Meet with me Class location and time Course materials Nic Herndon herndonn19@ecu.edu TTh 9:30 – 1...\n",
      "- ) 21 Tue 04/01 Big data tools ( recorded ) 22 Thu 04/03 Document databases 23 Tue 04/08 Apache Spark - Homework 7 , due Sun 4/20 24 Thu 04/10 Apache Spark 25 Tue 04/15 Apache Spark 26 Thu 04/17 Final ...\n",
      "- . . . . . . . . . . . . . . . . . . . . . 5 3.7 Course staff responsibilities . . . . . . . . . . . . . . . . . . . . . . . . . . . . . . . . . . . . . . . . 6 4 Grading and course assignments . . . ....\n",
      "\n",
      "The 'similarity_threshold' parameter is not supported in this version of VectorDB.\n",
      "\n",
      "Query: syllabus details for the course\n",
      "\n",
      "Results with top_n=1:\n",
      "- 1.1 Course objective . . . . . . . . . . . . . . . . . . . . . . . . . . . . . . . . . . . . . . . . . . . . . . 1 1.2 Prerequisites . . . . . . . . . . . . . . . . . . . . . . . . . . . . . . . . . ....\n",
      "\n",
      "Results with top_n=3:\n",
      "- 1.1 Course objective . . . . . . . . . . . . . . . . . . . . . . . . . . . . . . . . . . . . . . . . . . . . . . 1 1.2 Prerequisites . . . . . . . . . . . . . . . . . . . . . . . . . . . . . . . . . ....\n",
      "- this course are as follows . F C B A 0 – 69 70 – 79 80 – 89 90 – 100 This grading scheme may be adjusted based on the overall performance of students in the course . 6...\n",
      "- ): There will be several assignments as part of the final project , including but not limited to , discussions , teamwork , project proposal presentation , and final project presentation . Participati...\n",
      "\n",
      "Results with top_n=5:\n",
      "- 1.1 Course objective . . . . . . . . . . . . . . . . . . . . . . . . . . . . . . . . . . . . . . . . . . . . . . 1 1.2 Prerequisites . . . . . . . . . . . . . . . . . . . . . . . . . . . . . . . . . ....\n",
      "- this course are as follows . F C B A 0 – 69 70 – 79 80 – 89 90 – 100 This grading scheme may be adjusted based on the overall performance of students in the course . 6...\n",
      "- ): There will be several assignments as part of the final project , including but not limited to , discussions , teamwork , project proposal presentation , and final project presentation . Participati...\n",
      "- academic honesty associated with the university . Your signature indicates that you completely understand the policies in place and that you have not plagiarized . 8 Class recordings This class will b...\n",
      "- . . . . . . . . . . . . . . . . . . . . . . . . . . . . . . . . . . . . . 7 6 Course incompletes . . . . . . . . . . . . . . . . . . . . . . . . . . . . . . . . . . . . . . . . . . . . . . 7 7 Academi...\n",
      "\n",
      "The 'similarity_threshold' parameter is not supported in this version of VectorDB.\n"
     ]
    }
   ],
   "source": [
    "queries = [\n",
    "    \"Grading criteria\",         # Main query\n",
    "    \"grading\",                  # Shorter query\n",
    "    \"grading policy\",           # Synonym-based query\n",
    "    \"misspelled wrds\",          # Query with typos\n",
    "    \"syllabus details for the course\"  # General query\n",
    "]\n",
    "\n",
    "# Run experiments for different parameters\n",
    "for query in queries:\n",
    "    print(f\"\\nQuery: {query}\")\n",
    "    \n",
    "    # Experiment 1: Influence of top_n\n",
    "    results_top_1 = memory.search(query, top_n=1)\n",
    "    results_top_3 = memory.search(query, top_n=3)\n",
    "    results_top_5 = memory.search(query, top_n=5)\n",
    "\n",
    "    print(\"\\nResults with top_n=1:\")\n",
    "    for result in results_top_1:\n",
    "        print(f\"- {result['chunk'][:200]}...\")\n",
    "\n",
    "    print(\"\\nResults with top_n=3:\")\n",
    "    for result in results_top_3:\n",
    "        print(f\"- {result['chunk'][:200]}...\")\n",
    "\n",
    "    print(\"\\nResults with top_n=5:\")\n",
    "    for result in results_top_5:\n",
    "        print(f\"- {result['chunk'][:200]}...\")\n",
    "\n",
    "    # Experiment 2: Influence of similarity_threshold (if supported)\n",
    "    try:\n",
    "        results_no_threshold = memory.search(query, top_n=5)\n",
    "        results_high_threshold = memory.search(query, top_n=5, similarity_threshold=0.8)\n",
    "\n",
    "        print(\"\\nResults without similarity threshold:\")\n",
    "        for result in results_no_threshold:\n",
    "            print(f\"- {result['chunk'][:200]}...\")\n",
    "\n",
    "        print(\"\\nResults with similarity_threshold=0.8:\")\n",
    "        for result in results_high_threshold:\n",
    "            print(f\"- {result['chunk'][:200]}...\")\n",
    "    except TypeError:\n",
    "        print(\"\\nThe 'similarity_threshold' parameter is not supported in this version of VectorDB.\")\n"
   ]
  }
 ],
 "metadata": {
  "kernelspec": {
   "display_name": "base",
   "language": "python",
   "name": "python3"
  },
  "language_info": {
   "codemirror_mode": {
    "name": "ipython",
    "version": 3
   },
   "file_extension": ".py",
   "mimetype": "text/x-python",
   "name": "python",
   "nbconvert_exporter": "python",
   "pygments_lexer": "ipython3",
   "version": "3.12.3"
  }
 },
 "nbformat": 4,
 "nbformat_minor": 5
}
